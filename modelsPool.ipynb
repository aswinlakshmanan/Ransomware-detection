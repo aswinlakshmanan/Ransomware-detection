{
  "nbformat": 4,
  "nbformat_minor": 0,
  "metadata": {
    "kernelspec": {
      "display_name": "Python 3",
      "language": "python",
      "name": "python3"
    },
    "language_info": {
      "codemirror_mode": {
        "name": "ipython",
        "version": 3
      },
      "file_extension": ".py",
      "mimetype": "text/x-python",
      "name": "python",
      "nbconvert_exporter": "python",
      "pygments_lexer": "ipython3",
      "version": "3.7.6"
    },
    "colab": {
      "name": "Research_models (1).ipynb",
      "provenance": []
    }
  },
  "cells": [
    {
      "cell_type": "code",
      "metadata": {
        "id": "G04EXOCTJwM5"
      },
      "source": [
        "\n",
        "import numpy as np\n",
        "import pandas as pd\n",
        "\n",
        "from sklearn import svm\n",
        "from sklearn.linear_model import LogisticRegression\n",
        "from sklearn.svm import SVC\n",
        "from sklearn.model_selection import StratifiedKFold,train_test_split,cross_val_score\n",
        "from sklearn.metrics import classification_report,confusion_matrix\n",
        "from sklearn.neighbors import KNeighborsClassifier\n",
        "from sklearn.tree import DecisionTreeClassifier\n",
        "from sklearn import model_selection\n",
        "from sklearn.ensemble import RandomForestClassifier\n",
        "from sklearn.ensemble import GradientBoostingClassifier\n",
        "from sklearn.svm import LinearSVC\n",
        "from sklearn.metrics import accuracy_score\n",
        "from sklearn.metrics import recall_score\n",
        "from sklearn.metrics import confusion_matrix\n",
        "from sklearn.metrics import accuracy_score\n",
        "from sklearn.naive_bayes import GaussianNB\n",
        "\n",
        "from sklearn.metrics import average_precision_score\n",
        "from sklearn.metrics import roc_curve\n",
        "from sklearn.metrics import precision_recall_curve\n",
        "from sklearn.metrics import f1_score\n",
        "from sklearn.metrics import auc\n",
        "\n",
        "import matplotlib.pyplot as plt\n",
        "\n",
        "import json\n",
        "import itertools\n",
        "import math\n",
        "import csv\n",
        "import time\n",
        "import pickle\n"
      ],
      "execution_count": null,
      "outputs": []
    },
    {
      "cell_type": "code",
      "metadata": {
        "id": "wi2cCEP4NgUT"
      },
      "source": [
        "\n",
        "!pip install -U -q PyDrive \n",
        "  \n",
        "from pydrive.auth import GoogleAuth \n",
        "from pydrive.drive import GoogleDrive \n",
        "from google.colab import auth \n",
        "from oauth2client.client import GoogleCredentials \n",
        "  \n",
        "  \n",
        "# Authenticate and create the PyDrive client. \n",
        "auth.authenticate_user() \n",
        "gauth = GoogleAuth() \n",
        "gauth.credentials = GoogleCredentials.get_application_default() \n",
        "drive = GoogleDrive(gauth)"
      ],
      "execution_count": null,
      "outputs": []
    },
    {
      "cell_type": "markdown",
      "metadata": {
        "id": "ZHGiUN-uJwM8"
      },
      "source": [
        "## Read Dataset"
      ]
    },
    {
      "cell_type": "code",
      "metadata": {
        "id": "_7qwoSAaQVrP"
      },
      "source": [
        "link=['https://drive.google.com/file/d/1H-DfAD-IBPkiygk2yb55jlXUFnd4RGnI/view?usp=sharing','https://drive.google.com/file/d/169SMiw2HvvsEpoFxJ9T-fA3dzGtM-iYF/view?usp=sharing','https://drive.google.com/file/d/1UdbiH188nsXmL60C4VLpv6o5FU8cgXnk/view?usp=sharing','https://drive.google.com/file/d/1hL42SicgeWWdk_lx9gkIZYJjVSfncSCe/view?usp=sharing']\n",
        "names=['ransom_dataset_test25samples.csv','benign_dataset_test25samples.csv','ransom_dataset_train75samples.csv','benign_dataset_train75samples.csv']\n",
        "\n",
        "for i in range(4):\n",
        "  id=link[i].split(\"/\")[-2]\n",
        "  downloaded=drive.CreateFile({'id':id})\n",
        "  downloaded.GetContentFile(names[i])\n",
        "\n"
      ],
      "execution_count": null,
      "outputs": []
    },
    {
      "cell_type": "code",
      "metadata": {
        "id": "2zTl9icbJwM9"
      },
      "source": [
        "ransom_train = pd.read_csv(names[2], nrows=75)\n",
        "ransom_test = pd.read_csv(names[0], nrows=25)\n",
        "\n",
        "benign_train = pd.read_csv(names[3], nrows=75)\n",
        "benign_test = pd.read_csv(names[1], nrows=25)"
      ],
      "execution_count": null,
      "outputs": []
    },
    {
      "cell_type": "code",
      "metadata": {
        "id": "8WYG98UMJwM9"
      },
      "source": [
        "ransom_train = ransom_train[ransom_train.columns[0:75000]]\n",
        "ransom_test = ransom_test[ransom_test.columns[0:75000]]\n",
        "benign_train = benign_train[benign_train.columns[0:75000]]\n",
        "benign_test = benign_test[benign_test.columns[0:75000]]\n"
      ],
      "execution_count": null,
      "outputs": []
    },
    {
      "cell_type": "code",
      "metadata": {
        "id": "UOSs0K-7JwM9"
      },
      "source": [
        "ransom_train['class']=1\n",
        "ransom_test['class']=1\n",
        "benign_train['class']=0\n",
        "benign_test['class']=0"
      ],
      "execution_count": null,
      "outputs": []
    },
    {
      "cell_type": "code",
      "metadata": {
        "id": "fjY6Zmn6JwM9"
      },
      "source": [
        "train_df = pd.concat([ransom_train,benign_train],ignore_index=True)\n",
        "test_df = pd.concat([ransom_test,benign_test],ignore_index=True)\n"
      ],
      "execution_count": null,
      "outputs": []
    },
    {
      "cell_type": "code",
      "metadata": {
        "id": "E7tXawTMsvUm"
      },
      "source": [
        "train_df = train_df.fillna(0)\n",
        "test_df = test_df.fillna(0)"
      ],
      "execution_count": null,
      "outputs": []
    },
    {
      "cell_type": "code",
      "metadata": {
        "id": "1yEA3590JwM9"
      },
      "source": [
        "X_train = train_df.drop('class',axis=1)\n",
        "X_test = test_df.drop('class',axis=1)\n",
        "Y_train = train_df['class']\n",
        "Y_test = test_df['class']\n"
      ],
      "execution_count": null,
      "outputs": []
    },
    {
      "cell_type": "markdown",
      "metadata": {
        "id": "tSDFEb63JwNC"
      },
      "source": [
        "## Implementing Models"
      ]
    },
    {
      "cell_type": "markdown",
      "metadata": {
        "id": "TMTaTOUBJwNC"
      },
      "source": [
        " ##   Gaussian Naive Bayes"
      ]
    },
    {
      "cell_type": "code",
      "metadata": {
        "id": "rTunddkXJwNC"
      },
      "source": [
        "gaussian=GaussianNB(var_smoothing=0.001)\n",
        "gaussian.fit(X_train,Y_train)\n",
        "print('score for Gaussian Naive Bayes ',gaussian.score(X_train,Y_train))\n",
        "print('score for Gaussian Naive Bayes ',gaussian.score(X_test,Y_test))\n",
        "y_pred = gaussian.predict(X_test)\n",
        "print('Recall Score ',recall_score(Y_test,y_pred))\n",
        "print('Matrix ',confusion_matrix(Y_test, y_pred))\n"
      ],
      "execution_count": null,
      "outputs": []
    },
    {
      "cell_type": "code",
      "metadata": {
        "id": "j6FdvzIjvca9"
      },
      "source": [
        "filename = 'saved_models/gnb4.sav'\n",
        "pickle.dump(gaussian, open(filename, 'wb'))"
      ],
      "execution_count": null,
      "outputs": []
    },
    {
      "cell_type": "markdown",
      "metadata": {
        "id": "qvGo8d5YJwNC"
      },
      "source": [
        "# Support Vector Machine"
      ]
    },
    {
      "cell_type": "code",
      "metadata": {
        "id": "2Vf4zgQ4a-3u"
      },
      "source": [
        "svm = LinearSVC(C=5,penalty='l2',dual=True )\n",
        "svm.fit(X_train,Y_train)\n",
        "print(svm.score(X_train,Y_train))\n",
        "print(svm.score(X_test,Y_test))\n",
        "y_pred = svm.predict(X_test)\n",
        "print(\"Accuracy:\",accuracy_score(Y_test, y_pred))\n",
        "print(\"Recall:\",recall_score(Y_test, y_pred))\n",
        "print(\"Matrix:\",confusion_matrix(Y_test, y_pred))\n",
        "print('\\n')"
      ],
      "execution_count": null,
      "outputs": []
    },
    {
      "cell_type": "code",
      "metadata": {
        "id": "GYc22XowJwND"
      },
      "source": [
        "filename = 'saved_models/svm4.sav'\n",
        "pickle.dump(svm, open(filename, 'wb'))"
      ],
      "execution_count": null,
      "outputs": []
    },
    {
      "cell_type": "markdown",
      "metadata": {
        "id": "SBMFsvLrJwND"
      },
      "source": [
        "# Logistic Regression"
      ]
    },
    {
      "cell_type": "code",
      "metadata": {
        "id": "pE2DR5KmJwND"
      },
      "source": [
        "clf=LogisticRegression(solver='liblinear',C=5,penalty='l1',max_iter=1000)\n",
        "clf.fit(X_train,Y_train)\n",
        "pred=clf.predict(X_test)\n",
        "print(clf.score(X_train,Y_train))\n",
        "print('accuracy_score for LogisticRegression ',accuracy_score(Y_test,pred))\n",
        "print('recall_score for LogisticRegression ',recall_score(Y_test,pred))\n",
        "print(confusion_matrix(Y_test,pred))"
      ],
      "execution_count": null,
      "outputs": []
    },
    {
      "cell_type": "code",
      "metadata": {
        "id": "4C9_TFLFZODu"
      },
      "source": [
        "filename = 'saved_models/log4.sav'\n",
        "pickle.dump(clf, open(filename, 'wb'))"
      ],
      "execution_count": null,
      "outputs": []
    },
    {
      "cell_type": "code",
      "metadata": {
        "id": "aeVpUWARf2ZP"
      },
      "source": [
        "!ls saved_models"
      ],
      "execution_count": null,
      "outputs": []
    },
    {
      "cell_type": "markdown",
      "metadata": {
        "id": "aupT39HiJwND"
      },
      "source": [
        "# Decision Tree"
      ]
    },
    {
      "cell_type": "code",
      "metadata": {
        "id": "fOngaPBqJwNE"
      },
      "source": [
        "tree = DecisionTreeClassifier(splitter='best',criterion='entropy',max_features='auto',max_depth=8,min_samples_split=5,min_samples_leaf=20)\n",
        "tree.fit(X_train, Y_train)\n",
        "print(\"Accuracy on train set: {:.3f}\".format(tree.score(X_train, Y_train)))\n",
        "print(\"Accuracy on test set: {:.3f}\".format(tree.score(X_test, Y_test)))\n",
        "#print(\"Accuracy on val set: {:.3f}\".format(tree.score(X_val, Y_val)))\n",
        "p1=tree.predict(X_test)\n",
        "print(confusion_matrix(Y_test,p1))\n",
        "print(recall_score(Y_test,p1))"
      ],
      "execution_count": null,
      "outputs": []
    },
    {
      "cell_type": "code",
      "metadata": {
        "id": "1Zuk9E0pJwNE"
      },
      "source": [
        "filename = 'saved_models/dt4.sav'\n",
        "pickle.dump(tree, open(filename, 'wb'))"
      ],
      "execution_count": null,
      "outputs": []
    },
    {
      "cell_type": "code",
      "metadata": {
        "id": "ozw8uI97gV05"
      },
      "source": [
        "!ls saved_models"
      ],
      "execution_count": null,
      "outputs": []
    },
    {
      "cell_type": "markdown",
      "metadata": {
        "id": "8HAX2i2mJwNE"
      },
      "source": [
        "# RandomForest"
      ]
    },
    {
      "cell_type": "code",
      "metadata": {
        "id": "v8p6qQCygcgu"
      },
      "source": [
        "rf = RandomForestClassifier(criterion='entropy',n_estimators=1000,n_jobs=-1,max_features='auto',max_depth=7,min_samples_split=7,min_samples_leaf=6)\n",
        "rf.fit(X_train,Y_train)\n",
        "#print(rf.score(X_train,Y_train))\n",
        "#print(rf.score(X_test,Y_test))\n",
        "print(x)\n",
        "y_pred = rf.predict(X_test)\n",
        "print(\"Accuracy:\",accuracy_score(Y_test, y_pred))\n",
        "print(\"Recall:\",recall_score(Y_test, y_pred))\n",
        "    \n",
        "print(\"Matrix:\",confusion_matrix(Y_test, y_pred))\n"
      ],
      "execution_count": null,
      "outputs": []
    },
    {
      "cell_type": "code",
      "metadata": {
        "id": "FnRhxTEeZxek"
      },
      "source": [
        "filename = 'saved_models/rf4.sav'\n",
        "pickle.dump(rf, open(filename, 'wb'))"
      ],
      "execution_count": null,
      "outputs": []
    },
    {
      "cell_type": "code",
      "metadata": {
        "id": "9r04gZ15iQ2A"
      },
      "source": [
        "!ls saved_models"
      ],
      "execution_count": null,
      "outputs": []
    },
    {
      "cell_type": "markdown",
      "metadata": {
        "id": "B4wbNv4eJwNF"
      },
      "source": [
        "# GradientBoosting Classifier"
      ]
    },
    {
      "cell_type": "code",
      "metadata": {
        "id": "DNuzIxx4JwNF"
      },
      "source": [
        "gb = GradientBoostingClassifier(loss='deviance',max_features='auto',max_depth=10,n_estimators=1000,min_samples_leaf=6,min_samples_split=4)\n",
        "gb.fit(X_train, Y_train)\n",
        "p=gb.predict(X_test)\n",
        "print(\"Accuracy on test set: {:.3f}\".format(gb.score(X_test, Y_test)))\n",
        "print(\"recall on test set: {:.3f}\".format(recall_score(Y_test, p)))\n",
        "print(confusion_matrix(Y_test,p))"
      ],
      "execution_count": null,
      "outputs": []
    },
    {
      "cell_type": "code",
      "metadata": {
        "id": "AoHqzb4BZ3S8"
      },
      "source": [
        "filename = 'saved_models/gb4.sav'\n",
        "pickle.dump(gb, open(filename, 'wb'))"
      ],
      "execution_count": null,
      "outputs": []
    },
    {
      "cell_type": "code",
      "metadata": {
        "id": "Qx_r562yjQl2"
      },
      "source": [
        "!ls saved_models"
      ],
      "execution_count": null,
      "outputs": []
    },
    {
      "cell_type": "markdown",
      "metadata": {
        "id": "4AfjFQOlicIM"
      },
      "source": [
        "KNN\n",
        "\n"
      ]
    },
    {
      "cell_type": "code",
      "metadata": {
        "id": "p0tgQCtPjaQB"
      },
      "source": [
        "model =KNeighborsClassifier(n_neighbors=10,weights='distance',algorithm='ball_tree',p=3) \n",
        "model.fit(X_train,Y_train)\n",
        "\n",
        "y_pred = model.predict(X_test)\n",
        "print(\"Accuracy:\",accuracy_score(Y_test, y_pred))\n",
        "print(\"Recall:\",recall_score(Y_test, y_pred))\n",
        "print(confusion_matrix(Y_test,y_pred))"
      ],
      "execution_count": null,
      "outputs": []
    },
    {
      "cell_type": "code",
      "metadata": {
        "id": "yXziyFN9Z8j3"
      },
      "source": [
        "filename = 'saved_models/knn4.sav'\n",
        "pickle.dump(model, open(filename, 'wb'))"
      ],
      "execution_count": null,
      "outputs": []
    },
    {
      "cell_type": "code",
      "metadata": {
        "id": "KW1yKo9nkhF2"
      },
      "source": [
        "!ls saved_models"
      ],
      "execution_count": null,
      "outputs": []
    }
  ]
}