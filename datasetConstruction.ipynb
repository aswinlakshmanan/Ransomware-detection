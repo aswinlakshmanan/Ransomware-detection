{
 "cells": [
  {
   "cell_type": "code",
   "execution_count": 1,
   "metadata": {},
   "outputs": [],
   "source": [
    "import pandas as pd\n",
    "import numpy as np\n",
    "import json\n",
    "import time\n",
    "import itertools\n",
    "import csv\n",
    "import math\n",
    "from collections import Counter"
   ]
  },
  {
   "cell_type": "code",
   "execution_count": 2,
   "metadata": {},
   "outputs": [],
   "source": [
    "api_mat=[]\n",
    "#time_mat=[]\n",
    "\n",
    "def extraction(data):\n",
    "    \n",
    "    api=[]\n",
    "    time=[]\n",
    "    ds=json.dumps(data)\n",
    "    behavior=data['behavior']\n",
    "    processes=behavior['processes']\n",
    "    for z in processes:\n",
    "        calls=z['calls']\n",
    "        for x in calls:\n",
    "            api.append(x['api'])\n",
    "            time.append(x['time'])\n",
    "    time_list, api_list = zip(*[(x, y) for x, y in sorted(zip(time, api))])\n",
    "    api_mat.append(api_list)\n",
    "    #time_mat.append(time_list)"
   ]
  },
  {
   "cell_type": "code",
   "execution_count": 3,
   "metadata": {},
   "outputs": [],
   "source": [
    "start=time.time()\n",
    "for folder in range(1,101):\n",
    "    file=\"C:/Users/sukul/Desktop/Ransomware Project/Benign/\"+str(folder)+\"/report.json\"\n",
    "    data = json.load(open(file))\n",
    "    extraction(data)\n",
    "N=len(api_mat)\n",
    "exec_time=time.time()-start"
   ]
  },
  {
   "cell_type": "code",
   "execution_count": 20,
   "metadata": {},
   "outputs": [
    {
     "name": "stdout",
     "output_type": "stream",
     "text": [
      "AVERAGE:  153760.26\n",
      "MAX:  3231951\n",
      "MIN:  103\n"
     ]
    }
   ],
   "source": [
    "arr=[]\n",
    "tot=0\n",
    "for i in range(N):\n",
    "    tot+=len(api_mat[i])\n",
    "    arr.append(len(api_mat[i]))\n",
    "print(\"AVERAGE: \",tot/N)\n",
    "print(\"MAX: \",max(arr))\n",
    "print(\"MIN: \",min(arr))"
   ]
  },
  {
   "cell_type": "code",
   "execution_count": 4,
   "metadata": {},
   "outputs": [],
   "source": [
    "start=time.time()\n",
    "n_grams=[[] for i in range(N)]\n",
    "\n",
    "for i in range(N):\n",
    "    arr=api_mat[i]\n",
    "    for j in range(len(arr)-1):\n",
    "        n_grams[i].append((arr[j],arr[j+1]))\n",
    "        if(j<len(arr)-2):\n",
    "            n_grams[i].append((arr[j],arr[j+1],arr[j+2]))\n",
    "        if(j<len(arr)-3):\n",
    "            n_grams[i].append((arr[j],arr[j+1],arr[j+2],arr[j+3]))\n",
    "        if(j<len(arr)-4):\n",
    "            n_grams[i].append((arr[j],arr[j+1],arr[j+2],arr[j+3],arr[j+4]))\n",
    "\n",
    "exec_time=time.time()-start"
   ]
  },
  {
   "cell_type": "code",
   "execution_count": 1,
   "metadata": {},
   "outputs": [],
   "source": [
    "with open('benign_ngrams_100samples.csv', 'w',newline=\"\") as f:\n",
    "    writer=csv.writer(f)\n",
    "    writer.writerows(n_grams)"
   ]
  },
  {
   "cell_type": "code",
   "execution_count": 21,
   "metadata": {},
   "outputs": [
    {
     "name": "stdout",
     "output_type": "stream",
     "text": [
      "AVERAGE:  615031.04\n",
      "MAX:  12927794\n",
      "MIN:  402\n"
     ]
    }
   ],
   "source": [
    "arr=[]\n",
    "tot=0\n",
    "for i in range(N):\n",
    "    tot+=len(n_grams[i])\n",
    "    arr.append(len(n_grams[i]))\n",
    "print(\"AVERAGE: \",tot/N)\n",
    "print(\"MAX: \",max(arr))\n",
    "print(\"MIN: \",min(arr))"
   ]
  },
  {
   "cell_type": "code",
   "execution_count": 5,
   "metadata": {},
   "outputs": [],
   "source": [
    "start=time.time()\n",
    "counter_ngrams=[]*N\n",
    "for i in range(N):\n",
    "    counter_ngrams.append(Counter(n_grams[i]))\n",
    "exec_time=time.time()-start"
   ]
  },
  {
   "cell_type": "code",
   "execution_count": 6,
   "metadata": {},
   "outputs": [],
   "source": [
    "D=[{} for i in range(N)]"
   ]
  },
  {
   "cell_type": "code",
   "execution_count": 7,
   "metadata": {},
   "outputs": [],
   "source": [
    "start=time.time()\n",
    "i=0\n",
    "\n",
    "while(i<N):\n",
    "    temp=list(set(n_grams[i]))\n",
    "    j=0\n",
    "    l=len(n_grams[i])\n",
    "    t=len(temp)\n",
    "    while(j<t):\n",
    "        c=counter_ngrams[i]\n",
    "        D[i].update({temp[j]: c[temp[j]]/l })\n",
    "        j+=1\n",
    "    i+=1\n",
    "exec_time=time.time()-start"
   ]
  },
  {
   "cell_type": "code",
   "execution_count": 8,
   "metadata": {},
   "outputs": [],
   "source": [
    "start=time.time()\n",
    "d=[]\n",
    "for i in range(N):\n",
    "    temp=list(D[i].keys())\n",
    "    for j in range(len(temp)):\n",
    "        d.append(temp[j])\n",
    "d=set(d)\n",
    "d=list(d)\n",
    "exec_time=time.time()-start "
   ]
  },
  {
   "cell_type": "code",
   "execution_count": 9,
   "metadata": {},
   "outputs": [
    {
     "data": {
      "text/plain": [
       "507750"
      ]
     },
     "execution_count": 9,
     "metadata": {},
     "output_type": "execute_result"
    }
   ],
   "source": [
    "len(d)"
   ]
  },
  {
   "cell_type": "code",
   "execution_count": 9,
   "metadata": {},
   "outputs": [],
   "source": [
    "idf={}"
   ]
  },
  {
   "cell_type": "code",
   "execution_count": 10,
   "metadata": {},
   "outputs": [],
   "source": [
    "\n",
    "start=time.time()\n",
    "\n",
    "i=0\n",
    "l=len(d)\n",
    "while(i<l):\n",
    "    count=0\n",
    "    for j in range(N):\n",
    "        if d[i] in D[j]:\n",
    "            count+=1\n",
    "    idf[d[i]]=math.log(N/count)\n",
    "    i+=1\n",
    "\n",
    "\n",
    "exec_time=time.time()-start  "
   ]
  },
  {
   "cell_type": "code",
   "execution_count": 11,
   "metadata": {},
   "outputs": [],
   "source": [
    "tf_idf={}\n",
    "mult=[]"
   ]
  },
  {
   "cell_type": "code",
   "execution_count": 12,
   "metadata": {},
   "outputs": [],
   "source": [
    "i=0\n",
    "l=len(d)\n",
    "\n",
    "start=time.time()\n",
    "gram=list(idf.keys())\n",
    "Const=math.log(N)\n",
    "while(i<l):\n",
    "    if(idf[gram[i]]==Const):\n",
    "        for j in range(N):\n",
    "            if gram[i] in D[j]:\n",
    "                tf_idf[gram[i]]=idf[gram[i]]* D[j].get(gram[i])\n",
    "    else:\n",
    "        mult.append(gram[i])\n",
    "        tf_idf[gram[i]]=[]\n",
    "    i+=1\n",
    "\n",
    "exec_time=time.time()-start  "
   ]
  },
  {
   "cell_type": "code",
   "execution_count": 13,
   "metadata": {},
   "outputs": [],
   "source": [
    "start=time.time()\n",
    "for i in range(len(mult)):\n",
    "    for j in range(N):\n",
    "        if mult[i] in D[j]:\n",
    "            tf_idf[mult[i]].append(idf[mult[i]]*D[j].get(mult[i]))\n",
    "\n",
    "exec_time=time.time()-start  "
   ]
  },
  {
   "cell_type": "code",
   "execution_count": 14,
   "metadata": {},
   "outputs": [],
   "source": [
    "for i in range(len(mult)):\n",
    "    tf_idf[mult[i]]=max( tf_idf[mult[i]])"
   ]
  },
  {
   "cell_type": "code",
   "execution_count": 15,
   "metadata": {},
   "outputs": [],
   "source": [
    "sorted_tf_idf={k:v for k,v in sorted(tf_idf.items(),key=lambda item: item[1])}"
   ]
  },
  {
   "cell_type": "code",
   "execution_count": 22,
   "metadata": {},
   "outputs": [],
   "source": [
    "sorted_list=list(sorted_tf_idf.keys())\n",
    "sorted_list.reverse()"
   ]
  },
  {
   "cell_type": "code",
   "execution_count": 18,
   "metadata": {},
   "outputs": [],
   "source": [
    "df=[[] for i in range(N)]"
   ]
  },
  {
   "cell_type": "code",
   "execution_count": 29,
   "metadata": {},
   "outputs": [],
   "source": [
    "start=time.time()\n",
    "\n",
    "for i in range(N):\n",
    "    for j in range(len(sorted_list)):\n",
    "        df[i].append(counter_ngrams[i].get(sorted_list[j]))\n",
    "        \n",
    "exec_time=time.time()-start"
   ]
  },
  {
   "cell_type": "code",
   "execution_count": 87,
   "metadata": {},
   "outputs": [],
   "source": [
    "with open('ransom_dataset_100samples.csv', 'w',newline=\"\") as f:\n",
    "    writer=csv.writer(f)\n",
    "    writer.writerow(sorted_list)\n",
    "    writer.writerows(df)"
   ]
  }
 ],
 "metadata": {
  "kernelspec": {
   "display_name": "Python 3",
   "language": "python",
   "name": "python3"
  },
  "language_info": {
   "codemirror_mode": {
    "name": "ipython",
    "version": 3
   },
   "file_extension": ".py",
   "mimetype": "text/x-python",
   "name": "python",
   "nbconvert_exporter": "python",
   "pygments_lexer": "ipython3",
   "version": "3.7.0"
  }
 },
 "nbformat": 4,
 "nbformat_minor": 2
}
